{
 "cells": [
  {
   "cell_type": "code",
   "execution_count": 1,
   "id": "8c5b9647",
   "metadata": {},
   "outputs": [],
   "source": [
    "import pandas as pd"
   ]
  },
  {
   "cell_type": "code",
   "execution_count": 2,
   "id": "bf7873e7",
   "metadata": {},
   "outputs": [
    {
     "name": "stdout",
     "output_type": "stream",
     "text": [
      "<class 'pandas.core.frame.DataFrame'>\n",
      "RangeIndex: 450 entries, 0 to 449\n",
      "Data columns (total 26 columns):\n",
      " #   Column                                     Non-Null Count  Dtype  \n",
      "---  ------                                     --------------  -----  \n",
      " 0   Company Name                               450 non-null    object \n",
      " 1   company contact                            450 non-null    object \n",
      " 2   company email                              433 non-null    object \n",
      " 3   company phone                              450 non-null    object \n",
      " 4   Address                                    450 non-null    object \n",
      " 5   City                                       450 non-null    object \n",
      " 6   State                                      450 non-null    object \n",
      " 7   Postcode                                   450 non-null    int64  \n",
      " 8   Industry                                   450 non-null    object \n",
      " 9   Industry descr                             434 non-null    object \n",
      " 10  Company Type                               450 non-null    object \n",
      " 11  Current fulltime                           446 non-null    float64\n",
      " 12  Job created                                11 non-null     float64\n",
      " 13  Job retain                                 14 non-null     float64\n",
      " 14  Effective Date                             450 non-null    object \n",
      " 15  Total Savings                              450 non-null    float64\n",
      " 16  Savings from beginning receiving benefits  450 non-null    float64\n",
      " 17  Borough                                    450 non-null    object \n",
      " 18  Latitude                                   409 non-null    float64\n",
      " 19  Longitude                                  409 non-null    float64\n",
      " 20  Community Board                            409 non-null    float64\n",
      " 21  Council District                           409 non-null    float64\n",
      " 22  Census Tract                               409 non-null    float64\n",
      " 23  BIN                                        401 non-null    float64\n",
      " 24  BBL                                        401 non-null    float64\n",
      " 25  NTA                                        409 non-null    object \n",
      "dtypes: float64(12), int64(1), object(13)\n",
      "memory usage: 91.5+ KB\n"
     ]
    }
   ],
   "source": [
    "data = pd.read_csv('energy_data.csv')\n",
    "#data.head()\n",
    "data.info()"
   ]
  },
  {
   "cell_type": "markdown",
   "id": "2d86621b",
   "metadata": {},
   "source": [
    "## 1. How many different companies are represented in the data set?\n",
    "To answer this I will count unique entries in the company name column"
   ]
  },
  {
   "cell_type": "code",
   "execution_count": 3,
   "id": "6a9f2829",
   "metadata": {},
   "outputs": [
    {
     "name": "stdout",
     "output_type": "stream",
     "text": [
      "439\n"
     ]
    }
   ],
   "source": [
    "print(len(data['Company Name'].unique()))"
   ]
  },
  {
   "cell_type": "markdown",
   "id": "11227402",
   "metadata": {},
   "source": [
    "## 2. What is the total number of jobs created for businesses in Queens?\n"
   ]
  },
  {
   "cell_type": "code",
   "execution_count": 4,
   "id": "c0d8882c",
   "metadata": {},
   "outputs": [
    {
     "data": {
      "text/html": [
       "<div>\n",
       "<style scoped>\n",
       "    .dataframe tbody tr th:only-of-type {\n",
       "        vertical-align: middle;\n",
       "    }\n",
       "\n",
       "    .dataframe tbody tr th {\n",
       "        vertical-align: top;\n",
       "    }\n",
       "\n",
       "    .dataframe thead th {\n",
       "        text-align: right;\n",
       "    }\n",
       "</style>\n",
       "<table border=\"1\" class=\"dataframe\">\n",
       "  <thead>\n",
       "    <tr style=\"text-align: right;\">\n",
       "      <th></th>\n",
       "      <th>Company Name</th>\n",
       "      <th>company contact</th>\n",
       "      <th>company email</th>\n",
       "      <th>company phone</th>\n",
       "      <th>Address</th>\n",
       "      <th>City</th>\n",
       "      <th>State</th>\n",
       "      <th>Postcode</th>\n",
       "      <th>Industry</th>\n",
       "      <th>Industry descr</th>\n",
       "      <th>...</th>\n",
       "      <th>Savings from beginning receiving benefits</th>\n",
       "      <th>Borough</th>\n",
       "      <th>Latitude</th>\n",
       "      <th>Longitude</th>\n",
       "      <th>Community Board</th>\n",
       "      <th>Council District</th>\n",
       "      <th>Census Tract</th>\n",
       "      <th>BIN</th>\n",
       "      <th>BBL</th>\n",
       "      <th>NTA</th>\n",
       "    </tr>\n",
       "  </thead>\n",
       "  <tbody>\n",
       "    <tr>\n",
       "      <th>6</th>\n",
       "      <td>139 ACA Realty, Inc.</td>\n",
       "      <td>Eitan Chandally</td>\n",
       "      <td>barbara@dial7.com</td>\n",
       "      <td>7187076123</td>\n",
       "      <td>43-23 35th Street</td>\n",
       "      <td>Long Island City</td>\n",
       "      <td>NY</td>\n",
       "      <td>11101</td>\n",
       "      <td>Commercial</td>\n",
       "      <td>Limousine Service</td>\n",
       "      <td>...</td>\n",
       "      <td>129401.39</td>\n",
       "      <td>Queens</td>\n",
       "      <td>40.745706</td>\n",
       "      <td>-73.929565</td>\n",
       "      <td>402.0</td>\n",
       "      <td>26.0</td>\n",
       "      <td>179.0</td>\n",
       "      <td>4003160.0</td>\n",
       "      <td>4.002220e+09</td>\n",
       "      <td>Hunters Point-Sunnyside-West Maspeth</td>\n",
       "    </tr>\n",
       "    <tr>\n",
       "      <th>8</th>\n",
       "      <td>14-10 123rd Street LLC</td>\n",
       "      <td>Danica/Ivan Drazic</td>\n",
       "      <td>ddrazic@atjelectrical.com</td>\n",
       "      <td>7183210117</td>\n",
       "      <td>14-10 123rd Street</td>\n",
       "      <td>College Point</td>\n",
       "      <td>NY</td>\n",
       "      <td>11356</td>\n",
       "      <td>Commercial</td>\n",
       "      <td>Electrical Parts Mfg.</td>\n",
       "      <td>...</td>\n",
       "      <td>28752.48</td>\n",
       "      <td>Queens</td>\n",
       "      <td>40.785144</td>\n",
       "      <td>-73.844833</td>\n",
       "      <td>407.0</td>\n",
       "      <td>19.0</td>\n",
       "      <td>929.0</td>\n",
       "      <td>4098344.0</td>\n",
       "      <td>4.040850e+09</td>\n",
       "      <td>College Point</td>\n",
       "    </tr>\n",
       "    <tr>\n",
       "      <th>12</th>\n",
       "      <td>21st Century Optics, Inc.</td>\n",
       "      <td>Ralph Woythaler</td>\n",
       "      <td>rwoythaler@21st centuryoptics.com</td>\n",
       "      <td>7183922310</td>\n",
       "      <td>47-00 33rd Street</td>\n",
       "      <td>Lond Island City</td>\n",
       "      <td>NY</td>\n",
       "      <td>11101</td>\n",
       "      <td>Manufacturing</td>\n",
       "      <td>Eye glasses</td>\n",
       "      <td>...</td>\n",
       "      <td>288983.01</td>\n",
       "      <td>Queens</td>\n",
       "      <td>40.742386</td>\n",
       "      <td>-73.932148</td>\n",
       "      <td>402.0</td>\n",
       "      <td>26.0</td>\n",
       "      <td>199.0</td>\n",
       "      <td>4003447.0</td>\n",
       "      <td>4.002520e+09</td>\n",
       "      <td>Hunters Point-Sunnyside-West Maspeth</td>\n",
       "    </tr>\n",
       "    <tr>\n",
       "      <th>14</th>\n",
       "      <td>4Over4.com</td>\n",
       "      <td>Anastasio Panagiotopolous</td>\n",
       "      <td>taso@4over4.com</td>\n",
       "      <td>7189322700</td>\n",
       "      <td>19-41 46th Street</td>\n",
       "      <td>Long Island City</td>\n",
       "      <td>NY</td>\n",
       "      <td>11105</td>\n",
       "      <td>Manufacturing</td>\n",
       "      <td>Printer</td>\n",
       "      <td>...</td>\n",
       "      <td>184923.14</td>\n",
       "      <td>Queens</td>\n",
       "      <td>40.774940</td>\n",
       "      <td>-73.896804</td>\n",
       "      <td>401.0</td>\n",
       "      <td>22.0</td>\n",
       "      <td>12301.0</td>\n",
       "      <td>4441806.0</td>\n",
       "      <td>4.007740e+09</td>\n",
       "      <td>Steinway</td>\n",
       "    </tr>\n",
       "    <tr>\n",
       "      <th>15</th>\n",
       "      <td>538-540 West 35 Corp</td>\n",
       "      <td>Richard Silver</td>\n",
       "      <td>tankman220@aol.com</td>\n",
       "      <td>2127366618</td>\n",
       "      <td>11-42 46th Road</td>\n",
       "      <td>Queens</td>\n",
       "      <td>NY</td>\n",
       "      <td>11101</td>\n",
       "      <td>Manufacturing</td>\n",
       "      <td>steel, wood &amp; cement tanks</td>\n",
       "      <td>...</td>\n",
       "      <td>56744.11</td>\n",
       "      <td>Queens</td>\n",
       "      <td>40.745510</td>\n",
       "      <td>-73.949497</td>\n",
       "      <td>402.0</td>\n",
       "      <td>26.0</td>\n",
       "      <td>7.0</td>\n",
       "      <td>4436616.0</td>\n",
       "      <td>4.000560e+09</td>\n",
       "      <td>Hunters Point-Sunnyside-West Maspeth</td>\n",
       "    </tr>\n",
       "  </tbody>\n",
       "</table>\n",
       "<p>5 rows × 26 columns</p>\n",
       "</div>"
      ],
      "text/plain": [
       "                 Company Name            company contact  \\\n",
       "6        139 ACA Realty, Inc.            Eitan Chandally   \n",
       "8      14-10 123rd Street LLC         Danica/Ivan Drazic   \n",
       "12  21st Century Optics, Inc.            Ralph Woythaler   \n",
       "14                 4Over4.com  Anastasio Panagiotopolous   \n",
       "15       538-540 West 35 Corp             Richard Silver   \n",
       "\n",
       "                        company email company phone             Address  \\\n",
       "6                   barbara@dial7.com    7187076123   43-23 35th Street   \n",
       "8           ddrazic@atjelectrical.com    7183210117  14-10 123rd Street   \n",
       "12  rwoythaler@21st centuryoptics.com    7183922310   47-00 33rd Street   \n",
       "14                    taso@4over4.com    7189322700   19-41 46th Street   \n",
       "15                 tankman220@aol.com    2127366618     11-42 46th Road   \n",
       "\n",
       "                City State  Postcode       Industry  \\\n",
       "6   Long Island City    NY     11101     Commercial   \n",
       "8      College Point    NY     11356     Commercial   \n",
       "12  Lond Island City    NY     11101  Manufacturing   \n",
       "14  Long Island City    NY     11105  Manufacturing   \n",
       "15            Queens    NY     11101  Manufacturing   \n",
       "\n",
       "                Industry descr  ... Savings from beginning receiving benefits  \\\n",
       "6            Limousine Service  ...                                 129401.39   \n",
       "8        Electrical Parts Mfg.  ...                                  28752.48   \n",
       "12                 Eye glasses  ...                                 288983.01   \n",
       "14                     Printer  ...                                 184923.14   \n",
       "15  steel, wood & cement tanks  ...                                  56744.11   \n",
       "\n",
       "    Borough   Latitude  Longitude Community Board  Council District  \\\n",
       "6    Queens  40.745706 -73.929565           402.0              26.0   \n",
       "8    Queens  40.785144 -73.844833           407.0              19.0   \n",
       "12   Queens  40.742386 -73.932148           402.0              26.0   \n",
       "14   Queens  40.774940 -73.896804           401.0              22.0   \n",
       "15   Queens  40.745510 -73.949497           402.0              26.0   \n",
       "\n",
       "    Census Tract        BIN           BBL  \\\n",
       "6          179.0  4003160.0  4.002220e+09   \n",
       "8          929.0  4098344.0  4.040850e+09   \n",
       "12         199.0  4003447.0  4.002520e+09   \n",
       "14       12301.0  4441806.0  4.007740e+09   \n",
       "15           7.0  4436616.0  4.000560e+09   \n",
       "\n",
       "                                     NTA  \n",
       "6   Hunters Point-Sunnyside-West Maspeth  \n",
       "8                          College Point  \n",
       "12  Hunters Point-Sunnyside-West Maspeth  \n",
       "14                              Steinway  \n",
       "15  Hunters Point-Sunnyside-West Maspeth  \n",
       "\n",
       "[5 rows x 26 columns]"
      ]
     },
     "execution_count": 4,
     "metadata": {},
     "output_type": "execute_result"
    }
   ],
   "source": [
    "#select only data for Queens, check if looks correct\n",
    "data_queens = data.query('Borough == \"Queens\"')\n",
    "data_queens.head()"
   ]
  },
  {
   "cell_type": "code",
   "execution_count": 5,
   "id": "fdc2b8f7",
   "metadata": {},
   "outputs": [
    {
     "name": "stdout",
     "output_type": "stream",
     "text": [
      "102.0\n"
     ]
    }
   ],
   "source": [
    "#find the sum of all jobs created (if any)\n",
    "print(data_queens['Job created'].sum())"
   ]
  },
  {
   "cell_type": "markdown",
   "id": "a668c478",
   "metadata": {},
   "source": [
    "## 3. How many different unique email domains names are there in the data set?\n",
    "Split whatever is after @ into a separate column"
   ]
  },
  {
   "cell_type": "code",
   "execution_count": 6,
   "id": "9a219b0b",
   "metadata": {},
   "outputs": [],
   "source": [
    "#create a function that will separate out domain name\n",
    "def splitter(row):\n",
    "    email = row['company email']\n",
    "    if pd.isna(email) or ('@' not in email): #to exclude errors from missing values or improper email format\n",
    "        return float(\"nan\")\n",
    "    else:     \n",
    "        email = email.split('@')\n",
    "        return email[1]\n",
    "\n",
    "data['email_domain'] = data.apply(splitter, axis=1)\n",
    "#data.head()\n",
    "    "
   ]
  },
  {
   "cell_type": "code",
   "execution_count": 7,
   "id": "62dfeba7",
   "metadata": {},
   "outputs": [
    {
     "name": "stdout",
     "output_type": "stream",
     "text": [
      "357\n"
     ]
    }
   ],
   "source": [
    "#count unique values in the new email_domain columns\n",
    "print(len(data['email_domain'].unique()))"
   ]
  },
  {
   "cell_type": "markdown",
   "id": "faeca275",
   "metadata": {},
   "source": [
    "## 4. Considering only NTAs with at least 5 listed businesses, what is the average total savings and the total jobs created for each NTA? \n",
    "FOr this I will group the dataset by NTA and apply corresponding aggfunctions to find values of interest, then filter out the NTA data with less than 5 businesses."
   ]
  },
  {
   "cell_type": "code",
   "execution_count": 8,
   "id": "7dcc92cb",
   "metadata": {},
   "outputs": [
    {
     "data": {
      "text/html": [
       "<div>\n",
       "<style scoped>\n",
       "    .dataframe tbody tr th:only-of-type {\n",
       "        vertical-align: middle;\n",
       "    }\n",
       "\n",
       "    .dataframe tbody tr th {\n",
       "        vertical-align: top;\n",
       "    }\n",
       "\n",
       "    .dataframe thead th {\n",
       "        text-align: right;\n",
       "    }\n",
       "</style>\n",
       "<table border=\"1\" class=\"dataframe\">\n",
       "  <thead>\n",
       "    <tr style=\"text-align: right;\">\n",
       "      <th></th>\n",
       "      <th>company_count</th>\n",
       "      <th>average_savings</th>\n",
       "      <th>jobs_created</th>\n",
       "    </tr>\n",
       "    <tr>\n",
       "      <th>NTA</th>\n",
       "      <th></th>\n",
       "      <th></th>\n",
       "      <th></th>\n",
       "    </tr>\n",
       "  </thead>\n",
       "  <tbody>\n",
       "    <tr>\n",
       "      <th>Battery Park City-Lower Manhattan</th>\n",
       "      <td>9</td>\n",
       "      <td>469890.796667</td>\n",
       "      <td>0.0</td>\n",
       "    </tr>\n",
       "    <tr>\n",
       "      <th>Bushwick South</th>\n",
       "      <td>10</td>\n",
       "      <td>26140.455000</td>\n",
       "      <td>10.0</td>\n",
       "    </tr>\n",
       "    <tr>\n",
       "      <th>Carroll Gardens-Columbia Street-Red Hook</th>\n",
       "      <td>11</td>\n",
       "      <td>24337.390000</td>\n",
       "      <td>0.0</td>\n",
       "    </tr>\n",
       "    <tr>\n",
       "      <th>College Point</th>\n",
       "      <td>7</td>\n",
       "      <td>17159.372857</td>\n",
       "      <td>2.0</td>\n",
       "    </tr>\n",
       "    <tr>\n",
       "      <th>Crown Heights North</th>\n",
       "      <td>9</td>\n",
       "      <td>4036.298889</td>\n",
       "      <td>0.0</td>\n",
       "    </tr>\n",
       "    <tr>\n",
       "      <th>DUMBO-Vinegar Hill-Downtown Brooklyn-Boerum Hill</th>\n",
       "      <td>10</td>\n",
       "      <td>59950.340000</td>\n",
       "      <td>0.0</td>\n",
       "    </tr>\n",
       "    <tr>\n",
       "      <th>East New York</th>\n",
       "      <td>9</td>\n",
       "      <td>48433.093333</td>\n",
       "      <td>15.0</td>\n",
       "    </tr>\n",
       "    <tr>\n",
       "      <th>East Williamsburg</th>\n",
       "      <td>11</td>\n",
       "      <td>13990.626364</td>\n",
       "      <td>0.0</td>\n",
       "    </tr>\n",
       "    <tr>\n",
       "      <th>Greenpoint</th>\n",
       "      <td>14</td>\n",
       "      <td>9753.649286</td>\n",
       "      <td>0.0</td>\n",
       "    </tr>\n",
       "    <tr>\n",
       "      <th>Hunters Point-Sunnyside-West Maspeth</th>\n",
       "      <td>75</td>\n",
       "      <td>23931.398933</td>\n",
       "      <td>0.0</td>\n",
       "    </tr>\n",
       "    <tr>\n",
       "      <th>Hunts Point</th>\n",
       "      <td>13</td>\n",
       "      <td>39246.016154</td>\n",
       "      <td>12.0</td>\n",
       "    </tr>\n",
       "    <tr>\n",
       "      <th>Manhattanville</th>\n",
       "      <td>9</td>\n",
       "      <td>2760.888889</td>\n",
       "      <td>0.0</td>\n",
       "    </tr>\n",
       "    <tr>\n",
       "      <th>Maspeth</th>\n",
       "      <td>9</td>\n",
       "      <td>6658.283333</td>\n",
       "      <td>10.0</td>\n",
       "    </tr>\n",
       "    <tr>\n",
       "      <th>Mott Haven-Port Morris</th>\n",
       "      <td>14</td>\n",
       "      <td>17843.937857</td>\n",
       "      <td>10.0</td>\n",
       "    </tr>\n",
       "    <tr>\n",
       "      <th>Queensbridge-Ravenswood-Long Island City</th>\n",
       "      <td>16</td>\n",
       "      <td>61830.770625</td>\n",
       "      <td>0.0</td>\n",
       "    </tr>\n",
       "    <tr>\n",
       "      <th>SoHo-TriBeCa-Civic Center-Little Italy</th>\n",
       "      <td>5</td>\n",
       "      <td>37214.024000</td>\n",
       "      <td>0.0</td>\n",
       "    </tr>\n",
       "    <tr>\n",
       "      <th>Springfield Gardens South-Brookville</th>\n",
       "      <td>5</td>\n",
       "      <td>17757.662000</td>\n",
       "      <td>0.0</td>\n",
       "    </tr>\n",
       "    <tr>\n",
       "      <th>Steinway</th>\n",
       "      <td>7</td>\n",
       "      <td>11227.155714</td>\n",
       "      <td>20.0</td>\n",
       "    </tr>\n",
       "    <tr>\n",
       "      <th>Sunset Park West</th>\n",
       "      <td>48</td>\n",
       "      <td>14316.976875</td>\n",
       "      <td>0.0</td>\n",
       "    </tr>\n",
       "    <tr>\n",
       "      <th>park-cemetery-etc-Brooklyn</th>\n",
       "      <td>15</td>\n",
       "      <td>14327.419333</td>\n",
       "      <td>0.0</td>\n",
       "    </tr>\n",
       "  </tbody>\n",
       "</table>\n",
       "</div>"
      ],
      "text/plain": [
       "                                                  company_count  \\\n",
       "NTA                                                               \n",
       "Battery Park City-Lower Manhattan                             9   \n",
       "Bushwick South                                               10   \n",
       "Carroll Gardens-Columbia Street-Red Hook                     11   \n",
       "College Point                                                 7   \n",
       "Crown Heights North                                           9   \n",
       "DUMBO-Vinegar Hill-Downtown Brooklyn-Boerum Hill             10   \n",
       "East New York                                                 9   \n",
       "East Williamsburg                                            11   \n",
       "Greenpoint                                                   14   \n",
       "Hunters Point-Sunnyside-West Maspeth                         75   \n",
       "Hunts Point                                                  13   \n",
       "Manhattanville                                                9   \n",
       "Maspeth                                                       9   \n",
       "Mott Haven-Port Morris                                       14   \n",
       "Queensbridge-Ravenswood-Long Island City                     16   \n",
       "SoHo-TriBeCa-Civic Center-Little Italy                        5   \n",
       "Springfield Gardens South-Brookville                          5   \n",
       "Steinway                                                      7   \n",
       "Sunset Park West                                             48   \n",
       "park-cemetery-etc-Brooklyn                                   15   \n",
       "\n",
       "                                                  average_savings  \\\n",
       "NTA                                                                 \n",
       "Battery Park City-Lower Manhattan                   469890.796667   \n",
       "Bushwick South                                       26140.455000   \n",
       "Carroll Gardens-Columbia Street-Red Hook             24337.390000   \n",
       "College Point                                        17159.372857   \n",
       "Crown Heights North                                   4036.298889   \n",
       "DUMBO-Vinegar Hill-Downtown Brooklyn-Boerum Hill     59950.340000   \n",
       "East New York                                        48433.093333   \n",
       "East Williamsburg                                    13990.626364   \n",
       "Greenpoint                                            9753.649286   \n",
       "Hunters Point-Sunnyside-West Maspeth                 23931.398933   \n",
       "Hunts Point                                          39246.016154   \n",
       "Manhattanville                                        2760.888889   \n",
       "Maspeth                                               6658.283333   \n",
       "Mott Haven-Port Morris                               17843.937857   \n",
       "Queensbridge-Ravenswood-Long Island City             61830.770625   \n",
       "SoHo-TriBeCa-Civic Center-Little Italy               37214.024000   \n",
       "Springfield Gardens South-Brookville                 17757.662000   \n",
       "Steinway                                             11227.155714   \n",
       "Sunset Park West                                     14316.976875   \n",
       "park-cemetery-etc-Brooklyn                           14327.419333   \n",
       "\n",
       "                                                  jobs_created  \n",
       "NTA                                                             \n",
       "Battery Park City-Lower Manhattan                          0.0  \n",
       "Bushwick South                                            10.0  \n",
       "Carroll Gardens-Columbia Street-Red Hook                   0.0  \n",
       "College Point                                              2.0  \n",
       "Crown Heights North                                        0.0  \n",
       "DUMBO-Vinegar Hill-Downtown Brooklyn-Boerum Hill           0.0  \n",
       "East New York                                             15.0  \n",
       "East Williamsburg                                          0.0  \n",
       "Greenpoint                                                 0.0  \n",
       "Hunters Point-Sunnyside-West Maspeth                       0.0  \n",
       "Hunts Point                                               12.0  \n",
       "Manhattanville                                             0.0  \n",
       "Maspeth                                                   10.0  \n",
       "Mott Haven-Port Morris                                    10.0  \n",
       "Queensbridge-Ravenswood-Long Island City                   0.0  \n",
       "SoHo-TriBeCa-Civic Center-Little Italy                     0.0  \n",
       "Springfield Gardens South-Brookville                       0.0  \n",
       "Steinway                                                  20.0  \n",
       "Sunset Park West                                           0.0  \n",
       "park-cemetery-etc-Brooklyn                                 0.0  "
      ]
     },
     "metadata": {},
     "output_type": "display_data"
    }
   ],
   "source": [
    "data_agg = data.groupby('NTA').agg({'Company Name':['count'],\n",
    "                                   'Total Savings':['mean'],\n",
    "                                   'Job created':['sum']})\n",
    "data_agg.columns = ['company_count', 'average_savings', 'jobs_created']\n",
    "data_agg = data_agg[data_agg['company_count'] >= 5]\n",
    "display(data_agg)"
   ]
  },
  {
   "cell_type": "markdown",
   "id": "2cae60c0",
   "metadata": {},
   "source": [
    "## 5. Save your result for the previous question as a CSV file."
   ]
  },
  {
   "cell_type": "code",
   "execution_count": 9,
   "id": "23709d55",
   "metadata": {},
   "outputs": [],
   "source": [
    "data_agg.to_csv('day4_results.csv')"
   ]
  },
  {
   "cell_type": "markdown",
   "id": "6ca3244c",
   "metadata": {},
   "source": [
    "# Day 5  : Matplotlib/Seaborn\n",
    "\n",
    "- scatter plot of jobs created versus average savings. Use both a standard and a logarithmic scale for the average savings.\n",
    "- histogram of the log of the average total savings.\n",
    "- line plot of the total jobs created for each month.\n"
   ]
  },
  {
   "cell_type": "code",
   "execution_count": 10,
   "id": "c264d980",
   "metadata": {},
   "outputs": [],
   "source": [
    "import seaborn as sns"
   ]
  },
  {
   "cell_type": "code",
   "execution_count": 11,
   "id": "07385d5c",
   "metadata": {},
   "outputs": [
    {
     "data": {
      "text/plain": [
       "<AxesSubplot:xlabel='average_savings', ylabel='jobs_created'>"
      ]
     },
     "execution_count": 11,
     "metadata": {},
     "output_type": "execute_result"
    },
    {
     "data": {
      "image/png": "[encoded data removed]",
      "text/plain": [
       "<Figure size 432x288 with 1 Axes>"
      ]
     },
     "metadata": {
      "needs_background": "light"
     },
     "output_type": "display_data"
    }
   ],
   "source": [
    "sns.scatterplot(data=data_agg, x='average_savings', y='jobs_created')"
   ]
  },
  {
   "cell_type": "code",
   "execution_count": 12,
   "id": "e7e2e2f9",
   "metadata": {},
   "outputs": [
    {
     "data": {
      "text/plain": [
       "<AxesSubplot:xlabel='average_savings', ylabel='Count'>"
      ]
     },
     "execution_count": 12,
     "metadata": {},
     "output_type": "execute_result"
    },
    {
     "data": {
      "image/png": "[encoded data removed]",
      "text/plain": [
       "<Figure size 432x288 with 1 Axes>"
      ]
     },
     "metadata": {
      "needs_background": "light"
     },
     "output_type": "display_data"
    }
   ],
   "source": [
    "sns.histplot(data=data_agg, x='average_savings', log_scale=True)"
   ]
  },
  {
   "cell_type": "code",
   "execution_count": 13,
   "id": "f40f91a6",
   "metadata": {},
   "outputs": [],
   "source": [
    "#i did not understand how to do the last task in this assignment, because in most of the jobs created column\n",
    "#there is no data in the source file"
   ]
  }
 ],
 "metadata": {
  "kernelspec": {
   "display_name": "Python 3 (ipykernel)",
   "language": "python",
   "name": "python3"
  },
  "language_info": {
   "codemirror_mode": {
    "name": "ipython",
    "version": 3
   },
   "file_extension": ".py",
   "mimetype": "text/x-python",
   "name": "python",
   "nbconvert_exporter": "python",
   "pygments_lexer": "ipython3",
   "version": "3.9.7"
  }
 },
 "nbformat": 4,
 "nbformat_minor": 5
}
